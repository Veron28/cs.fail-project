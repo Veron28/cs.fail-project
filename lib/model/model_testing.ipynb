{
 "cells": [
  {
   "cell_type": "markdown",
   "metadata": {},
   "source": [
    "# Проверка моделей "
   ]
  },
  {
   "cell_type": "markdown",
   "metadata": {},
   "source": [
    "### KFold"
   ]
  },
  {
   "cell_type": "code",
   "execution_count": 14,
   "metadata": {},
   "outputs": [],
   "source": [
    "import pandas\n",
    "import pickle\n",
    "import numpy as np\n",
    "import matplotlib.pyplot as plt\n",
    "from lightgbm import LGBMRegressor\n",
    "import xgboost as xgb\n",
    "from xgboost import XGBRegressor\n",
    "from sklearn.model_selection import GridSearchCV\n",
    "from sklearn.model_selection import StratifiedKFold\n",
    "from sklearn.metrics import mean_absolute_error\n",
    "from sklearn.metrics import mean_squared_error"
   ]
  },
  {
   "cell_type": "code",
   "execution_count": 1,
   "metadata": {},
   "outputs": [],
   "source": [
    "def get_prediction(model, X_test, Y_test):\n",
    "    prediction = model.predict(X_test)\n",
    "    lst1 = list(map(lambda i:round(i,2), list(prediction)))\n",
    "    lst1 = [i - 0.5 for i in lst1]\n",
    "    lst1 = [1 if i < 1 else i for i in lst1]\n",
    "    lst1 = list(map(lambda i:round(i,2), lst1))\n",
    "    lst1clip = np.clip(lst1, 0., 2.)\n",
    "    lst2 = list(Y_test.future_0)\n",
    "    return [lst1clip, lst2]"
   ]
  },
  {
   "cell_type": "code",
   "execution_count": 4,
   "metadata": {},
   "outputs": [],
   "source": [
    "def my_mae(pred,real):\n",
    "    lst= [1 for i in range(len(pred)) if pred[i] > real[i]]\n",
    "    return sum(lst) / len(pred)"
   ]
  },
  {
   "cell_type": "code",
   "execution_count": 5,
   "metadata": {},
   "outputs": [],
   "source": [
    "X_train = pandas.read_csv(\"trainDS_X.csv\")\n",
    "Y_train = pandas.read_csv(\"trainDS_Y.csv\")\n",
    "X_train = X_train.drop(X_train.columns[[0]], axis='columns')\n",
    "Y_train = Y_train.drop(Y_train.columns[[0]], axis='columns')"
   ]
  },
  {
   "cell_type": "code",
   "execution_count": 6,
   "metadata": {},
   "outputs": [],
   "source": [
    "def check_bank(model, X_test, Y_test, plot = False):\n",
    "    mes = \"Вы не проиграли банк\"\n",
    "    lst1clip=get_prediction(model, X_test, Y_test)[0]\n",
    "    lst2=get_prediction(model, X_test, Y_test)[1]\n",
    "    bank = 20\n",
    "    bank_list=[]\n",
    "    pred = 0\n",
    "    for i in range(1, len(lst1clip)):\n",
    "        if bank < 0:\n",
    "            mes = f\"Вы проиграли весь банк, сыграв {i} игр\"\n",
    "            break\n",
    "        if lst1clip[i] >= 1.65 or lst1clip[i - 1] - lst1clip[i] < -0.04:\n",
    "            if lst2[i] >= 2:\n",
    "                bank += 1\n",
    "            else:\n",
    "                bank -= 1\n",
    "        bank = round(bank,2)\n",
    "        bank_list.append(bank)\n",
    "        \n",
    "    if plot:\n",
    "        plt.plot(bank_list, label=\"bank\")\n",
    "        plt.xlabel(\"Кол-во игр\")\n",
    "        plt.ylabel(\"Выигрыш\")\n",
    "        plt.legend()\n",
    "    print(f\"минимум = {min(bank_list)}\")\n",
    "    print(f\"максимум = {max(bank_list)}\")\n",
    "    print(f\"итого за 1000 игр = {bank_list[-1]}\")\n",
    "    return([mes,bank_list[-1]])"
   ]
  },
  {
   "cell_type": "code",
   "execution_count": 7,
   "metadata": {},
   "outputs": [],
   "source": [
    "def heldout_score(clf, X_test, Y_test):\n",
    "    \"\"\"вычисление ошибки\"\"\"\n",
    "    prediction = clf.predict(X_test)\n",
    "    lst1clip = [i-0.5 for i in prediction]\n",
    "    lst1clip = np.clip(lst1clip, 1., 2.)\n",
    "    real = list(Y_test.future_0)\n",
    "    rmse = mean_squared_error(real, lst1clip)\n",
    "    return round(np.sqrt(rmse),2)"
   ]
  },
  {
   "cell_type": "code",
   "execution_count": 8,
   "metadata": {},
   "outputs": [],
   "source": [
    "def kFold(n_splits):\n",
    "    objlist = []\n",
    "    a = np.arange(len(X_train))\n",
    "    parts = np.array_split(a, n_splits)\n",
    "    sa = set(a)\n",
    "    for part in parts:\n",
    "        sp = set(part)\n",
    "        cur = [list(sa.difference(sp)), list(sp)]\n",
    "        objlist.append(cur)\n",
    "    return objlist"
   ]
  },
  {
   "cell_type": "code",
   "execution_count": 12,
   "metadata": {},
   "outputs": [],
   "source": [
    "def LGBM_estimate(n_splits):\n",
    "    empty_bank = 0\n",
    "    total_bank = 0\n",
    "    error = 0\n",
    "    cv_clf = LGBMRegressor(max_depth = 50, learning_rate = 0.1, n_estimators = 100)\n",
    "    objlist = kFold(n_splits)\n",
    "    i=1\n",
    "    \n",
    "    for train, test in objlist:\n",
    "        cv_clf.fit(X_train.loc[train], Y_train.loc[train])\n",
    "        filename = f'model_LGBMR{i}.sav'\n",
    "        pickle.dump(cv_clf, open(filename, 'wb'))\n",
    "        error += heldout_score(cv_clf, X_train.loc[test], Y_train.loc[test])\n",
    "        error = round(error,2)\n",
    "        i+=1\n",
    "        if check_bank(cv_clf,X_train.loc[test],Y_train.loc[test])[0]!=\"Вы не проиграли банк\":\n",
    "            empty_bank+=1\n",
    "            total_bank-=20\n",
    "        else:\n",
    "            total_bank+=check_bank(cv_clf,X_train.loc[test],Y_train.loc[test])[1]\n",
    "        \n",
    "    error /= n_splits\n",
    "    return [error,empty_bank,total_bank]"
   ]
  },
  {
   "cell_type": "code",
   "execution_count": 10,
   "metadata": {},
   "outputs": [],
   "source": [
    "def xgb_estimate(n_splits):\n",
    "    empty_bank = 0\n",
    "    total_bank = 0\n",
    "    error = 0\n",
    "    cv_clf = xgb.XGBRegressor(booster='gbtree', verbosity=0, learning_rate=0.1, n_estimators=200, max_depth=50 )\n",
    "    objlist = kFold(n_splits)\n",
    "    \n",
    "    for train, test in objlist:\n",
    "        cv_clf.fit(X_train.loc[train], Y_train.loc[train])\n",
    "        filename = f'model_xgb{i}.sav'\n",
    "        pickle.dump(cv_clf, open(filename, 'wb'))\n",
    "        error += heldout_score(cv_clf, X_train.loc[test], Y_train.loc[test])\n",
    "        error = round(error,2)\n",
    "        if check_bank(cv_clf,X_train.loc[test],Y_train.loc[test])[0]!=\"Вы не проиграли банк\":\n",
    "            empty_bank+=1\n",
    "            total_bank-=20\n",
    "        else:\n",
    "            total_bank+=check_bank(cv_clf,X_train.loc[test],Y_train.loc[test])[1]\n",
    "        \n",
    "    error /= n_splits\n",
    "    total_bank /= n_splits\n",
    "    return [error,empty_bank,total_bank]"
   ]
  },
  {
   "cell_type": "code",
   "execution_count": 21,
   "metadata": {},
   "outputs": [],
   "source": [
    "def prediction(model, tests):\n",
    "    X_test = tests[0]\n",
    "    Y_test = tests[1]\n",
    "    prediction = model.predict(X_test)\n",
    "    lst1clip = prediction\n",
    "    lst1clip = [i for i in lst1clip]\n",
    "    lst1clip = np.clip(lst1clip, 1., 2.)\n",
    "    lst2 = list(Y_test.future_0)\n",
    "    return[lst1clip,lst2]"
   ]
  },
  {
   "cell_type": "markdown",
   "metadata": {},
   "source": [
    "### Тестирование LGBMRegressor"
   ]
  },
  {
   "cell_type": "code",
   "execution_count": null,
   "metadata": {},
   "outputs": [],
   "source": [
    "res = LGBM_estimate(40)"
   ]
  },
  {
   "cell_type": "code",
   "execution_count": 59,
   "metadata": {},
   "outputs": [
    {
     "name": "stdout",
     "output_type": "stream",
     "text": [
      "Средняя ошибка: 4.10325\n",
      "Банк опустел в 0 случаев\n",
      "Средний выигрыш: 49\n"
     ]
    }
   ],
   "source": [
    "print(\"Средняя ошибка:\", res[0])\n",
    "print(f\"Банк опустел в {res[1]} случаев\")\n",
    "print(\"Средний выигрыш:\", res[2])"
   ]
  },
  {
   "cell_type": "code",
   "execution_count": 19,
   "metadata": {},
   "outputs": [],
   "source": [
    "models = [pickle.load(open(f'model_LGBMR{i}.sav', 'rb')) for i in range(1,41)]\n",
    "objlist = kFold(40)\n",
    "tests = [[X_train.loc[i[1]],Y_train.loc[i[1]]] for i in objlist]"
   ]
  },
  {
   "cell_type": "code",
   "execution_count": 46,
   "metadata": {},
   "outputs": [
    {
     "name": "stdout",
     "output_type": "stream",
     "text": [
      "минимум = 19\n",
      "максимум = 62\n",
      "итого за 1000 игр = 62\n"
     ]
    },
    {
     "data": {
      "text/plain": [
       "['Вы не проиграли банк', 62]"
      ]
     },
     "execution_count": 46,
     "metadata": {},
     "output_type": "execute_result"
    },
    {
     "data": {
      "image/png": "[encoded data removed]",
      "text/plain": [
       "<Figure size 432x288 with 1 Axes>"
      ]
     },
     "metadata": {
      "needs_background": "light"
     },
     "output_type": "display_data"
    }
   ],
   "source": [
    "check_bank(models[33], tests[33][0], tests[33][1], True)"
   ]
  },
  {
   "cell_type": "markdown",
   "metadata": {},
   "source": [
    "### Тестирование XGBRegressor"
   ]
  },
  {
   "cell_type": "code",
   "execution_count": null,
   "metadata": {},
   "outputs": [],
   "source": [
    "res = xgb_estimate(40)"
   ]
  },
  {
   "cell_type": "code",
   "execution_count": 60,
   "metadata": {},
   "outputs": [
    {
     "name": "stdout",
     "output_type": "stream",
     "text": [
      "Средняя ошибка: 4.20116\n",
      "Банк опустел в 0 случаев\n",
      "Средний выигрыш: 53\n"
     ]
    }
   ],
   "source": [
    "print(\"Средняя ошибка:\", res[0])\n",
    "print(f\"Банк опустел в {res[1]} случаев\")\n",
    "print(\"Средний выигрыш:\", res[2])"
   ]
  },
  {
   "cell_type": "code",
   "execution_count": null,
   "metadata": {},
   "outputs": [],
   "source": [
    "models = [pickle.load(open(f'model_xgb{i}.sav', 'rb')) for i in range(1,41)]\n",
    "objlist = kFold(40)\n",
    "tests = [[X_train.loc[i[1]],Y_train.loc[i[1]]] for i in objlist]"
   ]
  },
  {
   "cell_type": "code",
   "execution_count": 57,
   "metadata": {},
   "outputs": [
    {
     "name": "stdout",
     "output_type": "stream",
     "text": [
      "минимум = 17\n",
      "максимум = 71\n",
      "итого за 1000 игр = 69\n"
     ]
    },
    {
     "data": {
      "text/plain": [
       "['Вы не проиграли банк', 69]"
      ]
     },
     "execution_count": 57,
     "metadata": {},
     "output_type": "execute_result"
    },
    {
     "data": {
      "image/png": "[encoded data removed]",
      "text/plain": [
       "<Figure size 432x288 with 1 Axes>"
      ]
     },
     "metadata": {
      "needs_background": "light"
     },
     "output_type": "display_data"
    }
   ],
   "source": [
    "check_bank(models[29], tests[29][0], tests[29][1], True)"
   ]
  },
  {
   "cell_type": "code",
   "execution_count": null,
   "metadata": {},
   "outputs": [],
   "source": []
  }
 ],
 "metadata": {
  "kernelspec": {
   "display_name": "Python 3",
   "language": "python",
   "name": "python3"
  },
  "language_info": {
   "codemirror_mode": {
    "name": "ipython",
    "version": 3
   },
   "file_extension": ".py",
   "mimetype": "text/x-python",
   "name": "python",
   "nbconvert_exporter": "python",
   "pygments_lexer": "ipython3",
   "version": "3.7.4"
  }
 },
 "nbformat": 4,
 "nbformat_minor": 2
}
